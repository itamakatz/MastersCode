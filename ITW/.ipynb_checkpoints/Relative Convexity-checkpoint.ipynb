{
 "cells": [
  {
   "cell_type": "code",
   "execution_count": 6,
   "metadata": {},
   "outputs": [
    {
     "name": "stdout",
     "output_type": "stream",
     "text": [
      "x0 len: 0.2\n",
      "f_x0 len: 0.4\n",
      "f_val len: 3999\n",
      "f_derivative len: 3999\n",
      "f_relative len: 3999\n",
      "x0 len: 0.2\n",
      "f_x0 len: 0.16000000000000003\n",
      "f_val len: 3999\n",
      "f_derivative len: 3999\n",
      "f_relative len: 3999\n"
     ]
    },
    {
     "data": {
      "image/png": "[encoded data removed]",
      "text/plain": [
       "<Figure size 432x288 with 1 Axes>"
      ]
     },
     "metadata": {
      "needs_background": "light"
     },
     "output_type": "display_data"
    }
   ],
   "source": [
    "import numpy as np\n",
    "import matplotlib.pyplot as plt\n",
    "from numpy import diff\n",
    "\n",
    "def get_relative_function(f, xs, delta, x0):\n",
    "    t = xs\n",
    "    f_val = f(t)\n",
    "    f_derivative = diff(f_val)/delta\n",
    "    t = t[1:]\n",
    "    f_val = f_val[1:]\n",
    "    f_x0 = f(x0)\n",
    "#     f_relative = f_val - ((f_val - f_x0)/f_derivative + x0)\n",
    "    f_relative = (f_val - f_x0)/f_derivative + x0\n",
    "    print(\"x0 len: \"+str(x0))\n",
    "    print(\"f_x0 len: \"+str(f_x0))\n",
    "    print(\"f_val len: \"+str(len(f_val)))\n",
    "    print(\"f_derivative len: \"+str(len(f_derivative)))\n",
    "    print(\"f_relative len: \"+str(len(f_relative)))\n",
    "    return (t, f_relative)\n",
    "    \n",
    "dt = 0.0001\n",
    "pi_0 = 0.2\n",
    "xs = np.arange(0., 0.4, dt)\n",
    "g = lambda x: np.sqrt(x*(1-x))\n",
    "f = lambda x: x*(1-x)\n",
    "(_, g_relative) = get_relative_function(g,xs,dt, pi_0)\n",
    "(xs, f_relative) = get_relative_function(f,xs,dt, pi_0)\n",
    "plt.plot(xs, g(xs), 'r', label=\"g(p)=sqrt(p*(1-p))\")\n",
    "plt.plot(xs, g_relative, 'b', label=\"g_{pi0}(p_n)\")\n",
    "plt.plot(xs, f(xs), 'k', label=\"f(p)=p*(1-p)\")\n",
    "plt.plot(xs, f_relative, 'g', label=\"f_{pi0}(p_n)\")\n",
    "plt.plot(xs, xs, 'gray', label=\"y=x\")\n",
    "plt.title('Plot of the numerator and denominator with pi_0 = ' + str(pi_0))\n",
    "plt.legend(loc=\"upper left\")\n",
    "plt.savefig('Numerator and Denominator.png')\n",
    "plt.show()"
   ]
  },
  {
   "cell_type": "code",
   "execution_count": null,
   "metadata": {},
   "outputs": [],
   "source": []
  },
  {
   "cell_type": "code",
   "execution_count": null,
   "metadata": {},
   "outputs": [],
   "source": []
  },
  {
   "cell_type": "code",
   "execution_count": null,
   "metadata": {},
   "outputs": [],
   "source": []
  },
  {
   "cell_type": "code",
   "execution_count": null,
   "metadata": {},
   "outputs": [],
   "source": []
  },
  {
   "cell_type": "code",
   "execution_count": null,
   "metadata": {},
   "outputs": [],
   "source": []
  },
  {
   "cell_type": "code",
   "execution_count": null,
   "metadata": {},
   "outputs": [],
   "source": []
  },
  {
   "cell_type": "code",
   "execution_count": null,
   "metadata": {},
   "outputs": [],
   "source": []
  },
  {
   "cell_type": "code",
   "execution_count": null,
   "metadata": {},
   "outputs": [],
   "source": []
  },
  {
   "cell_type": "code",
   "execution_count": null,
   "metadata": {},
   "outputs": [],
   "source": []
  },
  {
   "cell_type": "code",
   "execution_count": null,
   "metadata": {},
   "outputs": [],
   "source": []
  },
  {
   "cell_type": "code",
   "execution_count": null,
   "metadata": {},
   "outputs": [],
   "source": []
  },
  {
   "cell_type": "code",
   "execution_count": null,
   "metadata": {},
   "outputs": [],
   "source": []
  },
  {
   "cell_type": "code",
   "execution_count": null,
   "metadata": {},
   "outputs": [],
   "source": []
  },
  {
   "cell_type": "code",
   "execution_count": null,
   "metadata": {},
   "outputs": [],
   "source": []
  },
  {
   "cell_type": "code",
   "execution_count": null,
   "metadata": {},
   "outputs": [],
   "source": []
  },
  {
   "cell_type": "code",
   "execution_count": null,
   "metadata": {},
   "outputs": [],
   "source": []
  },
  {
   "cell_type": "code",
   "execution_count": null,
   "metadata": {},
   "outputs": [],
   "source": []
  },
  {
   "cell_type": "code",
   "execution_count": null,
   "metadata": {},
   "outputs": [],
   "source": []
  },
  {
   "cell_type": "code",
   "execution_count": null,
   "metadata": {},
   "outputs": [],
   "source": []
  },
  {
   "cell_type": "code",
   "execution_count": null,
   "metadata": {},
   "outputs": [],
   "source": []
  },
  {
   "cell_type": "code",
   "execution_count": null,
   "metadata": {},
   "outputs": [],
   "source": []
  },
  {
   "cell_type": "code",
   "execution_count": null,
   "metadata": {},
   "outputs": [],
   "source": []
  },
  {
   "cell_type": "code",
   "execution_count": null,
   "metadata": {},
   "outputs": [],
   "source": []
  },
  {
   "cell_type": "code",
   "execution_count": null,
   "metadata": {},
   "outputs": [],
   "source": []
  },
  {
   "cell_type": "code",
   "execution_count": null,
   "metadata": {},
   "outputs": [],
   "source": []
  },
  {
   "cell_type": "code",
   "execution_count": null,
   "metadata": {},
   "outputs": [],
   "source": []
  },
  {
   "cell_type": "code",
   "execution_count": null,
   "metadata": {},
   "outputs": [],
   "source": []
  },
  {
   "cell_type": "code",
   "execution_count": null,
   "metadata": {},
   "outputs": [],
   "source": []
  },
  {
   "cell_type": "code",
   "execution_count": null,
   "metadata": {},
   "outputs": [],
   "source": []
  },
  {
   "cell_type": "code",
   "execution_count": null,
   "metadata": {},
   "outputs": [],
   "source": []
  },
  {
   "cell_type": "code",
   "execution_count": null,
   "metadata": {},
   "outputs": [],
   "source": []
  },
  {
   "cell_type": "code",
   "execution_count": null,
   "metadata": {},
   "outputs": [],
   "source": []
  },
  {
   "cell_type": "code",
   "execution_count": null,
   "metadata": {},
   "outputs": [],
   "source": []
  },
  {
   "cell_type": "code",
   "execution_count": null,
   "metadata": {},
   "outputs": [],
   "source": []
  },
  {
   "cell_type": "code",
   "execution_count": null,
   "metadata": {},
   "outputs": [],
   "source": []
  },
  {
   "cell_type": "code",
   "execution_count": null,
   "metadata": {},
   "outputs": [],
   "source": []
  }
 ],
 "metadata": {
  "kernelspec": {
   "display_name": "Python 3.8.3 64-bit",
   "language": "python",
   "name": "python38364bit79cbc71b55444e2c8f12da9f31464483"
  },
  "language_info": {
   "codemirror_mode": {
    "name": "ipython",
    "version": 3
   },
   "file_extension": ".py",
   "mimetype": "text/x-python",
   "name": "python",
   "nbconvert_exporter": "python",
   "pygments_lexer": "ipython3",
   "version": "3.8.3"
  }
 },
 "nbformat": 4,
 "nbformat_minor": 4
}
